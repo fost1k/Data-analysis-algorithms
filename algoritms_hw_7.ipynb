{
 "cells": [
  {
   "cell_type": "code",
   "execution_count": 4,
   "metadata": {
    "colab": {},
    "colab_type": "code",
    "id": "ChmkZ71kuf9-"
   },
   "outputs": [],
   "source": [
    "import numpy as np\n",
    "from sklearn import model_selection\n",
    "from sklearn.datasets import load_iris\n",
    "import matplotlib.pyplot as plt\n",
    "from matplotlib.colors import ListedColormap"
   ]
  },
  {
   "cell_type": "code",
   "execution_count": 5,
   "metadata": {
    "colab": {},
    "colab_type": "code",
    "id": "_49Y22E9uf-C"
   },
   "outputs": [],
   "source": [
    "X, y = load_iris(return_X_y=True)\n",
    "\n",
    "# Для наглядности возьмем только первые два признака (всего в датасете их 4)\n",
    "X = X[:, :2]"
   ]
  },
  {
   "cell_type": "markdown",
   "metadata": {
    "colab_type": "text",
    "id": "ZpwmydFPuf-F"
   },
   "source": [
    "Разделим выборку на обучающую и тестовую"
   ]
  },
  {
   "cell_type": "code",
   "execution_count": 6,
   "metadata": {
    "colab": {},
    "colab_type": "code",
    "id": "ACYClLghuf-F"
   },
   "outputs": [],
   "source": [
    "X_train, X_test, y_train, y_test = model_selection.train_test_split(X, y, test_size=0.2, random_state=1)"
   ]
  },
  {
   "cell_type": "code",
   "execution_count": 7,
   "metadata": {
    "colab": {},
    "colab_type": "code",
    "id": "Johgj2p6uf-J",
    "outputId": "081c6165-bd71-4800-9ab1-78646f5489fd"
   },
   "outputs": [
    {
     "data": {
      "image/png": "[encoded data removed]",
      "text/plain": [
       "<Figure size 504x504 with 1 Axes>"
      ]
     },
     "metadata": {
      "needs_background": "light"
     },
     "output_type": "display_data"
    }
   ],
   "source": [
    "cmap = ListedColormap(['red', 'green', 'blue'])\n",
    "plt.figure(figsize=(7, 7))\n",
    "plt.scatter(X[:, 0], X[:, 1], c=y, cmap=cmap);"
   ]
  },
  {
   "cell_type": "markdown",
   "metadata": {
    "colab_type": "text",
    "id": "59xP1kfUuf-O"
   },
   "source": [
    "Используем евклидову метрику. Реализуем функцию для ее подсчета."
   ]
  },
  {
   "cell_type": "code",
   "execution_count": 8,
   "metadata": {
    "colab": {},
    "colab_type": "code",
    "id": "MKipIKeGuf-P"
   },
   "outputs": [],
   "source": [
    "def e_metrics(x1, x2):\n",
    "    distance = 0\n",
    "    for i in range(len(x1)):\n",
    "        distance += np.square(x1[i] - x2[i])\n",
    "    return np.sqrt(distance)"
   ]
  },
  {
   "cell_type": "markdown",
   "metadata": {
    "colab_type": "text",
    "id": "1tvFJ8-ouf-T"
   },
   "source": [
    "Реализуем алгоритм поиска k ближайших соседей."
   ]
  },
  {
   "cell_type": "code",
   "execution_count": 9,
   "metadata": {
    "colab": {},
    "colab_type": "code",
    "id": "LIKuDr9huf-V"
   },
   "outputs": [],
   "source": [
    "def knn(x_train, y_train, x_test, k):\n",
    "    \n",
    "    answers = []\n",
    "    \n",
    "    for x in x_test:\n",
    "        test_distances = []\n",
    "            \n",
    "        for i in range(len(x_train)):\n",
    "            \n",
    "            # расчет расстояния от классифицируемого объекта до\n",
    "            # объекта обучающей выборки\n",
    "            distance = e_metrics(x, x_train[i])\n",
    "            \n",
    "            # Записываем в список значение расстояния и ответа на объекте обучающей выборки\n",
    "            test_distances.append((distance, y_train[i]))\n",
    "        \n",
    "        # отберем k ближайших соседей\n",
    "        k_neighbours = sorted(test_distances)[0:k]\n",
    "                \n",
    "        # создаем словарь со всеми возможными классами\n",
    "        classes = {class_item: 0 for class_item in set(y_train)}\n",
    "        \n",
    "        # Сортируем список и среди первых k элементов подсчитаем частоту появления разных классов\n",
    "        for d in k_neighbours:\n",
    "            q = 0.5\n",
    "            w = q ** (d[0])\n",
    "            classes[d[1]] += w # вес зависит от расстояния между соседями\n",
    "\n",
    "        # Записываем в список ответов наиболее часто встречающийся класс\n",
    "      \n",
    "        answers.append(sorted(classes, key=classes.get)[-1])\n",
    "    return answers"
   ]
  },
  {
   "cell_type": "markdown",
   "metadata": {
    "colab_type": "text",
    "id": "7DVrbUPyuf-X"
   },
   "source": [
    "Напишем функцию для вычисления точности"
   ]
  },
  {
   "cell_type": "code",
   "execution_count": 10,
   "metadata": {
    "colab": {},
    "colab_type": "code",
    "id": "eK2Bn_7ouf-Y"
   },
   "outputs": [],
   "source": [
    "def accuracy(pred, y):\n",
    "    return (sum(pred == y) / len(y))"
   ]
  },
  {
   "cell_type": "markdown",
   "metadata": {
    "colab_type": "text",
    "id": "SprqYVBQuf-a"
   },
   "source": [
    "Проверим работу алгоритма при различных k"
   ]
  },
  {
   "cell_type": "code",
   "execution_count": 11,
   "metadata": {
    "colab": {},
    "colab_type": "code",
    "id": "8K98g57quf-a",
    "outputId": "be768ef7-9825-4ffb-9dc6-516565e92263"
   },
   "outputs": [
    {
     "name": "stdout",
     "output_type": "stream",
     "text": [
      "Точность алгоритма при k = 1: 0.667\n"
     ]
    }
   ],
   "source": [
    "k = 1\n",
    "\n",
    "y_pred = knn(X_train, y_train, X_test, k)\n",
    "\n",
    "print(f'Точность алгоритма при k = {k}: {accuracy(y_pred, y_test):.3f}')"
   ]
  },
  {
   "cell_type": "markdown",
   "metadata": {
    "colab_type": "text",
    "id": "YahR_F7xuf-d"
   },
   "source": [
    "Построим график распределения классов."
   ]
  },
  {
   "cell_type": "code",
   "execution_count": 12,
   "metadata": {
    "colab": {},
    "colab_type": "code",
    "id": "vN4DDyMauf-e"
   },
   "outputs": [],
   "source": [
    "def get_graph(X_train, y_train, k):\n",
    "    cmap_light = ListedColormap(['#FFAAAA', '#AAFFAA','#00AAFF'])\n",
    "\n",
    "    h = .02\n",
    "\n",
    "    # Расчет пределов графика\n",
    "    x_min, x_max = X_train[:, 0].min() - 1, X_train[:, 0].max() + 1\n",
    "    y_min, y_max = X_train[:, 1].min() - 1, X_train[:, 1].max() + 1\n",
    "    xx, yy = np.meshgrid(np.arange(x_min, x_max, h), np.arange(y_min, y_max, h))\n",
    "\n",
    "    # Получим предсказания для всех точек\n",
    "    Z = knn(X_train, y_train, np.c_[xx.ravel(), yy.ravel()], k)\n",
    "\n",
    "    # Построим график\n",
    "    Z = np.array(Z).reshape(xx.shape)\n",
    "    plt.figure(figsize=(7,7))\n",
    "    plt.pcolormesh(xx, yy, Z, cmap=cmap_light)\n",
    "\n",
    "    # Добавим на график обучающую выборку\n",
    "    plt.scatter(X_train[:, 0], X_train[:, 1], c=y_train, cmap=cmap)\n",
    "    plt.xlim(xx.min(), xx.max())\n",
    "    plt.ylim(yy.min(), yy.max())\n",
    "    plt.title(f\"Трехклассовая kNN классификация при k = {k}\")\n",
    "    plt.show()"
   ]
  },
  {
   "cell_type": "code",
   "execution_count": 13,
   "metadata": {
    "colab": {},
    "colab_type": "code",
    "id": "B0twiiFZuf-i",
    "outputId": "81463ebb-c1a8-47ff-ff83-a6b1dd4aec39"
   },
   "outputs": [
    {
     "name": "stderr",
     "output_type": "stream",
     "text": [
      "<ipython-input-12-a1d024d4c536>:17: MatplotlibDeprecationWarning: shading='flat' when X and Y have the same dimensions as C is deprecated since 3.3.  Either specify the corners of the quadrilaterals with X and Y, or pass shading='auto', 'nearest' or 'gouraud', or set rcParams['pcolor.shading'].  This will become an error two minor releases later.\n",
      "  plt.pcolormesh(xx, yy, Z, cmap=cmap_light)\n"
     ]
    },
    {
     "data": {
      "image/png": "[encoded data removed]",
      "text/plain": [
       "<Figure size 504x504 with 1 Axes>"
      ]
     },
     "metadata": {
      "needs_background": "light"
     },
     "output_type": "display_data"
    }
   ],
   "source": [
    "get_graph(X_train, y_train, k)"
   ]
  },
  {
   "cell_type": "code",
   "execution_count": 14,
   "metadata": {
    "colab": {},
    "colab_type": "code",
    "id": "_HyO60dnuf-l",
    "outputId": "41fd701f-8531-4efb-90eb-9f394051e35a"
   },
   "outputs": [
    {
     "name": "stdout",
     "output_type": "stream",
     "text": [
      "Точность алгоритма при k = 3: 0.733\n"
     ]
    }
   ],
   "source": [
    "k = 3\n",
    "\n",
    "y_pred = knn(X_train, y_train, X_test, k)\n",
    "\n",
    "print(f'Точность алгоритма при k = {k}: {accuracy(y_pred, y_test):.3f}')"
   ]
  },
  {
   "cell_type": "code",
   "execution_count": null,
   "metadata": {
    "colab": {},
    "colab_type": "code",
    "id": "zuxShjfxuf-n",
    "outputId": "21f96cdd-2d09-4cf2-d943-7835c2e222e7"
   },
   "outputs": [],
   "source": [
    "# get_graph(X_train, y_train, k)"
   ]
  },
  {
   "cell_type": "code",
   "execution_count": 16,
   "metadata": {
    "colab": {},
    "colab_type": "code",
    "id": "v276kSfFuf-q",
    "outputId": "0dc08804-d25b-4764-c798-0287ab74690e"
   },
   "outputs": [
    {
     "name": "stdout",
     "output_type": "stream",
     "text": [
      "Точность алгоритма при k = 5: 0.867\n"
     ]
    }
   ],
   "source": [
    "k = 5\n",
    "\n",
    "y_pred = knn(X_train, y_train, X_test, k)\n",
    "\n",
    "print(f'Точность алгоритма при k = {k}: {accuracy(y_pred, y_test):.3f}')"
   ]
  },
  {
   "cell_type": "code",
   "execution_count": 17,
   "metadata": {
    "colab": {},
    "colab_type": "code",
    "id": "N0uMulUpuf-u",
    "outputId": "16611f87-8ab1-4ac2-f4ef-79dedd7847db"
   },
   "outputs": [],
   "source": [
    "# get_graph(X_train, y_train, k)"
   ]
  },
  {
   "cell_type": "code",
   "execution_count": 18,
   "metadata": {
    "colab": {},
    "colab_type": "code",
    "id": "i-FpThNiuf-0",
    "outputId": "332854a5-a1e9-4e4e-dc6e-b5b15f1acd81"
   },
   "outputs": [
    {
     "name": "stdout",
     "output_type": "stream",
     "text": [
      "Точность алгоритма при k = 10: 0.867\n"
     ]
    }
   ],
   "source": [
    "k = 10\n",
    "\n",
    "y_pred = knn(X_train, y_train, X_test, k)\n",
    "\n",
    "print(f'Точность алгоритма при k = {k}: {accuracy(y_pred, y_test):.3f}')"
   ]
  },
  {
   "cell_type": "code",
   "execution_count": 24,
   "metadata": {},
   "outputs": [],
   "source": [
    "result = []\n",
    "for k_value in range(1,20):\n",
    "    y_pred = knn(X_train, y_train, X_test, k_value)\n",
    "    result.append((k_value, accuracy(y_pred, y_test)))"
   ]
  },
  {
   "cell_type": "code",
   "execution_count": 35,
   "metadata": {},
   "outputs": [
    {
     "data": {
      "text/plain": [
       "[(1, 0.6666666666666666),\n",
       " (2, 0.7333333333333333),\n",
       " (3, 0.7333333333333333),\n",
       " (4, 0.7666666666666667),\n",
       " (5, 0.8666666666666667),\n",
       " (6, 0.8666666666666667),\n",
       " (7, 0.8),\n",
       " (8, 0.8333333333333334),\n",
       " (9, 0.8666666666666667),\n",
       " (10, 0.8666666666666667),\n",
       " (11, 0.8333333333333334),\n",
       " (12, 0.8333333333333334),\n",
       " (13, 0.8333333333333334),\n",
       " (14, 0.8333333333333334),\n",
       " (15, 0.8333333333333334),\n",
       " (16, 0.8333333333333334),\n",
       " (17, 0.8333333333333334),\n",
       " (18, 0.8333333333333334),\n",
       " (19, 0.8333333333333334)]"
      ]
     },
     "execution_count": 35,
     "metadata": {},
     "output_type": "execute_result"
    }
   ],
   "source": [
    "result"
   ]
  },
  {
   "cell_type": "markdown",
   "metadata": {},
   "source": [
    "Вывод: до какого-то k значение метрики растет, далее не изменяется. Лучше иметь критерий остановки в алгоритме. При добавлении веса в зависимости от расстояния между соседями немного подкорретировалась точность предсказаний, например при весах равных 1: k = 10 -> точность = 0.833, а при введенной корректировке веса в зависимости от расстояния до объекта получили k = 10 -> точность =0.8667"
   ]
  },
  {
   "cell_type": "code",
   "execution_count": null,
   "metadata": {},
   "outputs": [],
   "source": []
  }
 ],
 "metadata": {
  "colab": {
   "collapsed_sections": [],
   "name": "Lesson_7(edited).ipynb",
   "provenance": []
  },
  "kernelspec": {
   "display_name": "Python 3",
   "language": "python",
   "name": "python3"
  },
  "language_info": {
   "codemirror_mode": {
    "name": "ipython",
    "version": 3
   },
   "file_extension": ".py",
   "mimetype": "text/x-python",
   "name": "python",
   "nbconvert_exporter": "python",
   "pygments_lexer": "ipython3",
   "version": "3.8.5"
  },
  "toc": {
   "base_numbering": 1,
   "nav_menu": {},
   "number_sections": false,
   "sideBar": true,
   "skip_h1_title": true,
   "title_cell": "Содержание",
   "title_sidebar": "Содержание",
   "toc_cell": false,
   "toc_position": {},
   "toc_section_display": true,
   "toc_window_display": false
  }
 },
 "nbformat": 4,
 "nbformat_minor": 1
}
