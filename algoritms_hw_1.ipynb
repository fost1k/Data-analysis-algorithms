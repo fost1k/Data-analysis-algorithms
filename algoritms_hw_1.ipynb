{
 "cells": [
  {
   "cell_type": "code",
   "execution_count": 2,
   "metadata": {},
   "outputs": [],
   "source": [
    "import numpy as np\n",
    "import matplotlib.pyplot as plt"
   ]
  },
  {
   "cell_type": "code",
   "execution_count": 3,
   "metadata": {},
   "outputs": [
    {
     "data": {
      "text/plain": [
       "(10, 2)"
      ]
     },
     "execution_count": 3,
     "metadata": {},
     "output_type": "execute_result"
    }
   ],
   "source": [
    "X = np.array([[1, 1, 1, 1, 1, 1, 1, 1, 1, 1],   \n",
    "              [1, 1, 2, 1, 3, 0, 5, 10, 1, 2]]).T \n",
    "X.shape"
   ]
  },
  {
   "cell_type": "code",
   "execution_count": 4,
   "metadata": {},
   "outputs": [],
   "source": [
    "y = [45, 55, 50, 59, 65, 35, 75, 80, 50, 60]"
   ]
  },
  {
   "cell_type": "code",
   "execution_count": 5,
   "metadata": {},
   "outputs": [],
   "source": [
    "def calc_mse(y, y_pred):\n",
    "    err = np.mean((y - y_pred)**2)\n",
    "    return err"
   ]
  },
  {
   "cell_type": "code",
   "execution_count": 6,
   "metadata": {},
   "outputs": [
    {
     "data": {
      "text/plain": [
       "{'k': 47.23214286, 'b': 3.91071429, 'error': 45.937499999999986}"
      ]
     },
     "execution_count": 6,
     "metadata": {},
     "output_type": "execute_result"
    }
   ],
   "source": [
    "# МНК: array([47.23214286,  3.91071429]) 45.937499999999986\n",
    "result_mse = {'k': 47.23214286,\n",
    "             'b': 3.91071429,\n",
    "             'error': 45.937499999999986}\n",
    "result_mse"
   ]
  },
  {
   "cell_type": "code",
   "execution_count": 7,
   "metadata": {},
   "outputs": [
    {
     "name": "stdout",
     "output_type": "stream",
     "text": [
      "0 [1.1102 0.84  ] 3173.15\n",
      "100 [ 7.43515582 10.71754582] 899.5990444359252\n",
      "200 [11.44993589 10.49282195] 735.5540619653672\n",
      "300 [14.98921624  9.8634316 ] 606.0048772266812\n",
      "400 [18.17511588  9.27626113] 500.7989288428638\n",
      "500 [21.04606457  8.74617136] 415.355423398327\n",
      "600 [23.63334499  8.26841272] 345.96206460054725\n",
      "700 [25.96499229  7.83785632] 289.6039104863001\n",
      "800 [28.06626432  7.44984037] 243.83236130353217\n",
      "900 [29.95992301  7.10016181] 206.65877484533297\n",
      "1000 [31.66648131  6.78503276] 176.46806566379882\n",
      "1100 [33.20442544  6.50103962] 151.9485342511143\n",
      "1200 [34.59041507  6.24510603] 132.03487746741152\n",
      "1300 [35.83946387  6.01445961] 115.86190418236981\n",
      "1400 [36.9651021  5.8066019] 102.7269452082483\n",
      "1500 [37.97952317  5.61928129] 92.05932434403573\n",
      "1600 [38.89371573  5.45046864] 83.39556413536023\n",
      "1700 [39.71758274  5.2983353 ] 76.35924911171323\n",
      "1800 [40.46004868  5.16123328] 70.6446716165486\n",
      "1900 [41.12915628  5.03767744] 66.00354968859448\n",
      "2000 [41.73215361  4.92632937] 62.2342399245102\n",
      "2100 [42.2755726  4.8259829] 59.172976652790545\n",
      "2200 [42.76529982  4.73555102] 56.68675678620521\n",
      "2300 [43.2066402   4.65405415] 54.66756122007835\n",
      "2400 [43.60437454  4.58060946] 53.02766171277286\n",
      "2500 [43.96281128  4.51442137] 51.69580934583287\n"
     ]
    }
   ],
   "source": [
    "n = X.shape[0]\n",
    "alpha = 1e-3\n",
    "w = np.array([1, 0.5])\n",
    "step = 2500\n",
    "\n",
    "for i in range(step+1):\n",
    "    y_pred = np.dot(w, X.T)\n",
    "    err = calc_mse(y, y_pred)\n",
    "    for j in range(w.shape[0]):\n",
    "        w[j] -= alpha * (1/n * 2 * np.sum(X[:,j] * (y_pred - y)))\n",
    "    if i % 100 == 0:\n",
    "        print(i, w, err) # МНК: array([47.23214286,  3.91071429]) 45.937499999999986\n",
    "result_gradient_descent = [i, w, err]"
   ]
  },
  {
   "cell_type": "code",
   "execution_count": 8,
   "metadata": {},
   "outputs": [
    {
     "data": {
      "text/plain": [
       "[2500, array([43.96281128,  4.51442137]), 51.69580934583287]"
      ]
     },
     "execution_count": 8,
     "metadata": {},
     "output_type": "execute_result"
    }
   ],
   "source": [
    "result_gradient_descent"
   ]
  },
  {
   "cell_type": "markdown",
   "metadata": {},
   "source": [
    "Выводы: при использовании градиентного спуска для достижения схожих результатов с МНК требуется установить скорость обучения alpha=1e-3, а количество итераций step=10000.\n",
    "\n",
    "Поэксперементировав со значениями alpha и step можно сделать вывод, что при фиксированном step и уменьшении значения alfa алгоритму требуется сделать больше итераций для того, чтобы достичь требуемого результата, т.к. скорость обучения будет мала и мы ограничеваем количетсво шагов. В противоположном случае, если мы будем увеличивать alfa при фиксированном step,  то в какой-то момент алгоритм просто не сойдется.\n",
    "В другом случае, если мы фиксируем alfa и уменьшаем значения step, то мы будем недообучаться. А если будем все время увеличивать значения step, то наступит момент когда, каждая новая итерация не будет привносить ничего нового в модель."
   ]
  },
  {
   "cell_type": "code",
   "execution_count": null,
   "metadata": {},
   "outputs": [],
   "source": []
  },
  {
   "cell_type": "code",
   "execution_count": 25,
   "metadata": {},
   "outputs": [
    {
     "name": "stdout",
     "output_type": "stream",
     "text": [
      "0 [2.102 3.9  ] 3173.15\n",
      "100 [31.88770806  6.74418155] 175.19445858001848\n",
      "200 [41.83683774  4.90699865] 61.9177717428135\n",
      "300 [45.33508261  4.26102097] 47.913169919666764\n",
      "400 [46.56511152  4.03388672] 46.18175564810758\n",
      "500 [46.99760587  3.95402334] 45.96769776787538\n",
      "600 [47.14967657  3.92594232] 45.941233404700036\n",
      "700 [47.20314662  3.91606866] 45.93796156758049\n",
      "800 [47.2219474   3.91259695] 45.937557064435396\n",
      "900 [47.228558    3.91137626] 45.937507054979434\n"
     ]
    }
   ],
   "source": [
    "w = np.array([1, 0.5])\n",
    "step = 1000\n",
    "for i in range(step):\n",
    "    y_pred = np.dot(w, X.T)\n",
    "    err = calc_mse(y, y_pred)\n",
    "    w -= alpha * (1/n * 2 * np.dot((y_pred - y), X))\n",
    "    if i % 100 == 0:\n",
    "#         print(err)\n",
    "        print(i, w, err)"
   ]
  },
  {
   "cell_type": "code",
   "execution_count": null,
   "metadata": {},
   "outputs": [],
   "source": []
  },
  {
   "cell_type": "markdown",
   "metadata": {},
   "source": [
    "3) (*) Вместо того, чтобы задавать количество итераций, задайте условие остановки алгоритма - когда ошибка за итерацию начинает изменяться ниже определенного порога.\n",
    "Сколько нужно сделать итераций, если установить допустимое отклонение MSE в размере diff=10e−6, а значение alpha=10e−2?"
   ]
  },
  {
   "cell_type": "code",
   "execution_count": 45,
   "metadata": {},
   "outputs": [
    {
     "name": "stdout",
     "output_type": "stream",
     "text": [
      "7015 [47.20231953  3.91622139] 45.937979169466495\n"
     ]
    }
   ],
   "source": [
    "w = np.array([1, 0.5])\n",
    "diff = 1e-6\n",
    "alpha = 1e-3\n",
    "step = 10000\n",
    "error_list = []\n",
    "\n",
    "for i in range(step):\n",
    "    y_pred = np.dot(w, X.T)\n",
    "    err = calc_mse(y, y_pred)\n",
    "    w -= alpha * (1/n * 2 * np.dot((y_pred - y), X))\n",
    "    error_list.append(err)\n",
    "#     if i % 100 == 0:\n",
    "#         print(i, w, err)\n",
    "    if i > 0:\n",
    "        if abs(error_list[i] - error_list[i-1]) < diff:\n",
    "            print(i, w, err)\n",
    "            break\n"
   ]
  }
 ],
 "metadata": {
  "kernelspec": {
   "display_name": "Python 3",
   "language": "python",
   "name": "python3"
  },
  "language_info": {
   "codemirror_mode": {
    "name": "ipython",
    "version": 3
   },
   "file_extension": ".py",
   "mimetype": "text/x-python",
   "name": "python",
   "nbconvert_exporter": "python",
   "pygments_lexer": "ipython3",
   "version": "3.8.5"
  }
 },
 "nbformat": 4,
 "nbformat_minor": 4
}
