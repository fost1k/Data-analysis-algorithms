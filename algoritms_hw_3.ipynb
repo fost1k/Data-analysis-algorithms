{
 "cells": [
  {
   "cell_type": "code",
   "execution_count": 301,
   "metadata": {},
   "outputs": [],
   "source": [
    "import numpy as np\n",
    "import pandas as pd\n",
    "import matplotlib \n",
    "import matplotlib.pyplot as plt"
   ]
  },
  {
   "cell_type": "markdown",
   "metadata": {},
   "source": [
    "Измените функцию calc_logloss так, чтобы нули по возможности не попадали в np.log (как вариант - использовать np.clip или np.where)."
   ]
  },
  {
   "cell_type": "code",
   "execution_count": 302,
   "metadata": {},
   "outputs": [],
   "source": [
    "from sklearn import datasets\n",
    "\n",
    "X, y= datasets.make_classification(n_samples=100, \n",
    "                                   n_features=4, \n",
    "                                   n_informative=2,\n",
    "                                   n_classes = 2,\n",
    "                                   random_state=42)"
   ]
  },
  {
   "cell_type": "code",
   "execution_count": 303,
   "metadata": {},
   "outputs": [],
   "source": [
    "# X"
   ]
  },
  {
   "cell_type": "code",
   "execution_count": 304,
   "metadata": {},
   "outputs": [],
   "source": [
    "def sigmoid(z):\n",
    "    res = 1 / (1 + np.exp(-z))\n",
    "    return res"
   ]
  },
  {
   "cell_type": "code",
   "execution_count": 305,
   "metadata": {},
   "outputs": [],
   "source": [
    "def calc_logloss(y, y_pred):\n",
    "    min_value = 1e-10\n",
    "    y_pred = np.clip(y_pred, min_value, None)\n",
    "    err = np.mean(- y * np.log(y_pred) - (1.0 - y) * np.log(1.0 - y_pred))\n",
    "    \n",
    "    return err"
   ]
  },
  {
   "cell_type": "code",
   "execution_count": 306,
   "metadata": {},
   "outputs": [],
   "source": [
    "#алгоритм с критерием остановки\n",
    "\n",
    "def eval_LR_model(X, y, alpha=1e-4):\n",
    "    np.random.seed(42)\n",
    "    w = np.random.randn(X.shape[1])\n",
    "    n = X.shape[0]\n",
    "    min_error = 1e-6\n",
    "    err_pred = np.inf\n",
    "    i = 0\n",
    "    while True:\n",
    "        z = np.dot(X, w) # log(p/(1-p))\n",
    "        y_pred = sigmoid(z) # p [0, 1]\n",
    "        err = calc_logloss(y, y_pred)\n",
    "        w -= alpha * (1/n * np.dot(X.T, (y_pred - y)))\n",
    "        if np.abs(err - err_pred) <= min_error:\n",
    "            print('Stop:', i, w, err)\n",
    "            break\n",
    "        else:\n",
    "            err_pred = err \n",
    "        i += 1\n",
    "    return w"
   ]
  },
  {
   "cell_type": "code",
   "execution_count": 307,
   "metadata": {},
   "outputs": [
    {
     "name": "stdout",
     "output_type": "stream",
     "text": [
      "Stop: 5932 [-1.43982113 -2.7671875  -2.37461737  6.01761083] 0.032405636889939304\n",
      "Stop: 13505 [-0.74450238 -1.80097174 -1.21669907  4.31422809] 0.04615889902095639\n",
      "Stop: 30262 [-0.23367832 -1.09920943 -0.39238686  3.09528706] 0.07720782908011367\n",
      "Stop: 60964 [ 0.16280157 -0.56896073  0.20032103  2.20718466] 0.15007947155352663\n",
      "Stop: 1 [ 0.49671228 -0.13826676  0.64768587  1.52303389] 0.3237631912566783\n",
      "Stop: 1 [ 0.49671397 -0.13826455  0.64768827  1.52303026] 0.32376393320101987\n"
     ]
    }
   ],
   "source": [
    "w = eval_LR_model(X, y, 1e-1),\n",
    "w = eval_LR_model(X, y, 1e-2),\n",
    "w = eval_LR_model(X, y, 1e-3),\n",
    "w = eval_LR_model(X, y, 1e-4),\n",
    "w = eval_LR_model(X, y, 1e-5),\n",
    "w = eval_LR_model(X, y, 1e-6)"
   ]
  },
  {
   "cell_type": "markdown",
   "metadata": {},
   "source": [
    "Вывод: значение коэффициента alfa сильно влияет на ошибку алгоритма. При заданном значении минимальной ошибки, чем меньше значение коэффициента alfa, тем больше требуется итераций для достижения приемлемых значений ошибки. Чем больше был коэффицент alfa, тем быстрее алгоритм приходил к минимальной ошибке."
   ]
  },
  {
   "cell_type": "code",
   "execution_count": 308,
   "metadata": {},
   "outputs": [
    {
     "name": "stdout",
     "output_type": "stream",
     "text": [
      "Stop: 30262 [-0.23367832 -1.09920943 -0.39238686  3.09528706] 0.07720782908011367\n"
     ]
    }
   ],
   "source": [
    "w = eval_LR_model(X, y, 1e-3)"
   ]
  },
  {
   "cell_type": "code",
   "execution_count": 309,
   "metadata": {},
   "outputs": [],
   "source": [
    "y_pred_list = []\n",
    "\n",
    "def calc_pred_proba(X, w):\n",
    "    y_pred = sigmoid(np.dot(X, w)).round(3)\n",
    "    for i in range(len(y)):\n",
    "        if y[i] == 1 and y_pred[i] >=0.5:\n",
    "            y_pred_list.append(y_pred[i])\n",
    "\n",
    "    return y_pred"
   ]
  },
  {
   "cell_type": "code",
   "execution_count": 310,
   "metadata": {},
   "outputs": [
    {
     "name": "stdout",
     "output_type": "stream",
     "text": [
      "предсказанные вероятности для класса 1: [0.983, 0.998, 0.99, 0.996, 0.926, 0.935, 0.998, 0.974, 0.982, 0.973, 0.999, 0.764, 0.688, 0.98, 0.997, 0.993, 0.986, 0.999, 0.832, 1.0, 0.963, 0.982, 0.992, 0.994, 0.957, 0.993, 0.873, 0.998, 0.983, 0.999, 0.82, 0.971, 0.942, 0.993, 0.97, 0.776, 0.953, 0.982, 0.964, 0.997, 0.987, 0.999, 0.945, 0.866, 0.647, 0.991, 0.67, 0.995, 0.999]\n"
     ]
    }
   ],
   "source": [
    "call_calc_pred_proba = calc_pred_proba(X, w)\n",
    "y_pred_list\n",
    "print(f'предсказанные вероятности для класса 1: {y_pred_list}')"
   ]
  },
  {
   "cell_type": "code",
   "execution_count": 311,
   "metadata": {},
   "outputs": [],
   "source": [
    "result_calc_pred_list = []\n",
    "\n",
    "def calc_pred(X,w):\n",
    "    y_pred = sigmoid(np.dot(X, w)).round(3)\n",
    "    for i in y_pred:\n",
    "        if i >= 0.5:\n",
    "            result_calc_pred_list.append(1)\n",
    "        else:\n",
    "            result_calc_pred_list.append(0)\n",
    "            \n",
    "    return result_calc_pred_list"
   ]
  },
  {
   "cell_type": "code",
   "execution_count": 312,
   "metadata": {},
   "outputs": [],
   "source": [
    "call_calc_pred = calc_pred(X, w)"
   ]
  },
  {
   "cell_type": "code",
   "execution_count": 313,
   "metadata": {},
   "outputs": [
    {
     "name": "stdout",
     "output_type": "stream",
     "text": [
      "предсказанные классы: [1, 0, 1, 0, 0, 1, 0, 1, 0, 0, 1, 0, 1, 0, 0, 1, 1, 1, 0, 1, 1, 1, 0, 0, 0, 1, 1, 0, 0, 0, 1, 1, 1, 0, 1, 0, 1, 0, 1, 1, 1, 0, 0, 0, 0, 1, 1, 0, 1, 0, 1, 0, 0, 1, 0, 1, 1, 0, 0, 1, 0, 1, 1, 1, 0, 0, 0, 0, 0, 1, 0, 1, 0, 1, 1, 0, 0, 1, 1, 0, 1, 1, 0, 0, 0, 1, 0, 0, 1, 1, 1, 1, 0, 0, 0, 0, 1, 0, 1, 1]\n"
     ]
    }
   ],
   "source": [
    "print(f'предсказанные классы: {result_calc_pred_list}')"
   ]
  },
  {
   "cell_type": "code",
   "execution_count": 314,
   "metadata": {},
   "outputs": [
    {
     "data": {
      "text/html": [
       "<div>\n",
       "<style scoped>\n",
       "    .dataframe tbody tr th:only-of-type {\n",
       "        vertical-align: middle;\n",
       "    }\n",
       "\n",
       "    .dataframe tbody tr th {\n",
       "        vertical-align: top;\n",
       "    }\n",
       "\n",
       "    .dataframe thead th {\n",
       "        text-align: right;\n",
       "    }\n",
       "</style>\n",
       "<table border=\"1\" class=\"dataframe\">\n",
       "  <thead>\n",
       "    <tr style=\"text-align: right;\">\n",
       "      <th></th>\n",
       "      <th>y</th>\n",
       "    </tr>\n",
       "  </thead>\n",
       "  <tbody>\n",
       "    <tr>\n",
       "      <th>0</th>\n",
       "      <td>1</td>\n",
       "    </tr>\n",
       "    <tr>\n",
       "      <th>1</th>\n",
       "      <td>0</td>\n",
       "    </tr>\n",
       "    <tr>\n",
       "      <th>2</th>\n",
       "      <td>1</td>\n",
       "    </tr>\n",
       "    <tr>\n",
       "      <th>3</th>\n",
       "      <td>0</td>\n",
       "    </tr>\n",
       "    <tr>\n",
       "      <th>4</th>\n",
       "      <td>0</td>\n",
       "    </tr>\n",
       "    <tr>\n",
       "      <th>...</th>\n",
       "      <td>...</td>\n",
       "    </tr>\n",
       "    <tr>\n",
       "      <th>95</th>\n",
       "      <td>0</td>\n",
       "    </tr>\n",
       "    <tr>\n",
       "      <th>96</th>\n",
       "      <td>1</td>\n",
       "    </tr>\n",
       "    <tr>\n",
       "      <th>97</th>\n",
       "      <td>0</td>\n",
       "    </tr>\n",
       "    <tr>\n",
       "      <th>98</th>\n",
       "      <td>1</td>\n",
       "    </tr>\n",
       "    <tr>\n",
       "      <th>99</th>\n",
       "      <td>1</td>\n",
       "    </tr>\n",
       "  </tbody>\n",
       "</table>\n",
       "<p>100 rows × 1 columns</p>\n",
       "</div>"
      ],
      "text/plain": [
       "    y\n",
       "0   1\n",
       "1   0\n",
       "2   1\n",
       "3   0\n",
       "4   0\n",
       ".. ..\n",
       "95  0\n",
       "96  1\n",
       "97  0\n",
       "98  1\n",
       "99  1\n",
       "\n",
       "[100 rows x 1 columns]"
      ]
     },
     "execution_count": 314,
     "metadata": {},
     "output_type": "execute_result"
    }
   ],
   "source": [
    "result_dataframe = pd.DataFrame(y)\n",
    "result_dataframe = result_dataframe.rename({0: 'y'}, axis='columns')\n",
    "result_dataframe"
   ]
  },
  {
   "cell_type": "code",
   "execution_count": null,
   "metadata": {},
   "outputs": [],
   "source": []
  }
 ],
 "metadata": {
  "kernelspec": {
   "display_name": "Python 3",
   "language": "python",
   "name": "python3"
  },
  "language_info": {
   "codemirror_mode": {
    "name": "ipython",
    "version": 3
   },
   "file_extension": ".py",
   "mimetype": "text/x-python",
   "name": "python",
   "nbconvert_exporter": "python",
   "pygments_lexer": "ipython3",
   "version": "3.8.5"
  }
 },
 "nbformat": 4,
 "nbformat_minor": 4
}
